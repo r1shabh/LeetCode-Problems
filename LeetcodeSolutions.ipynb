{
 "cells": [
  {
   "cell_type": "markdown",
   "metadata": {},
   "source": [
    "Imports"
   ]
  },
  {
   "cell_type": "code",
   "execution_count": 1,
   "metadata": {},
   "outputs": [],
   "source": [
    "import time\n",
    "import math\n",
    "import random"
   ]
  },
  {
   "cell_type": "markdown",
   "metadata": {},
   "source": [
    "Utilities"
   ]
  },
  {
   "cell_type": "code",
   "execution_count": null,
   "metadata": {},
   "outputs": [],
   "source": []
  },
  {
   "cell_type": "markdown",
   "metadata": {},
   "source": [
    "Pascal's Triangle\n"
   ]
  },
  {
   "cell_type": "code",
   "execution_count": 5,
   "metadata": {},
   "outputs": [
    {
     "name": "stdout",
     "output_type": "stream",
     "text": [
      "[[1]]\n",
      "[[1], [1, 1], [1, 2, 1], [1, 3, 3, 1], [1, 4, 6, 4, 1]]\n",
      "[1, 3, 3, 1]\n",
      "[1]\n",
      "[1, 4, 6, 4, 1]\n"
     ]
    }
   ],
   "source": [
    "triangle = [[1], [1, 1]]\n",
    "\n",
    "class PascalsTriangle(object):\n",
    "    def generate(self, numRows):\n",
    "        global triangle\n",
    "        if numRows <= len(triangle):\n",
    "            return triangle[:numRows]\n",
    "        self.load(numRows)\n",
    "        return triangle[:numRows]\n",
    "        \"\"\"\n",
    "        :type numRows: int\n",
    "        :rtype: List[List[int]]\n",
    "        \"\"\"\n",
    "\n",
    "    def load(self, numRows):\n",
    "        global triangle\n",
    "        start = len(triangle)\n",
    "        while start < numRows:\n",
    "            l = [1]\n",
    "            for i in range(1, len(triangle[-1])):\n",
    "                l.append(triangle[-1][i] + triangle[-1][i - 1])\n",
    "            l.append(1)\n",
    "            triangle.append(l[:])\n",
    "            start += 1\n",
    "        l = [1]\n",
    "        for i in range(1, len(triangle[-1])):\n",
    "            l.append(triangle[-1][i] + triangle[-1][i - 1])\n",
    "        l.append(1)\n",
    "        triangle.append(l[:])\n",
    "        \n",
    "    def getRow(self, rowIndex):\n",
    "        output = []\n",
    "        for i in range(rowIndex + 1):\n",
    "            output.append(self.choose(rowIndex, i))\n",
    "        return output\n",
    "        \"\"\"\n",
    "        :type rowIndex: int\n",
    "        :rtype: List[int]\n",
    "        \"\"\"\n",
    "\n",
    "    def factorial(self, n):\n",
    "        return self.factorialHelper(n, 1)\n",
    "\n",
    "    def factorialHelper(self, n, current):\n",
    "        if n == 1 or n == 0:\n",
    "            return current\n",
    "        return self.factorialHelper(n - 1, current * n)\n",
    "\n",
    "    def choose(self, n, m):\n",
    "        return self.factorial(n) // (self.factorial(m) * self.factorial(n - m))\n",
    "        \n",
    "pt = PascalsTriangle()\n",
    "print(pt.generate(1))\n",
    "print(pt.generate(5))\n",
    "print(pt.getRow(3))\n",
    "print(pt.getRow(0))\n",
    "print(pt.getRow(4))"
   ]
  },
  {
   "cell_type": "code",
   "execution_count": null,
   "metadata": {},
   "outputs": [],
   "source": []
  }
 ],
 "metadata": {
  "kernelspec": {
   "display_name": "Python 3",
   "language": "python",
   "name": "python3"
  },
  "language_info": {
   "codemirror_mode": {
    "name": "ipython",
    "version": 3
   },
   "file_extension": ".py",
   "mimetype": "text/x-python",
   "name": "python",
   "nbconvert_exporter": "python",
   "pygments_lexer": "ipython3",
   "version": "3.6.4"
  }
 },
 "nbformat": 4,
 "nbformat_minor": 2
}
