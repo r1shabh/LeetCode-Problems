{
 "cells": [
  {
   "cell_type": "markdown",
   "metadata": {},
   "source": [
    "Imports"
   ]
  },
  {
   "cell_type": "code",
   "execution_count": 1,
   "metadata": {},
   "outputs": [],
   "source": [
    "import time\n",
    "import math\n",
    "import random\n",
    "import unittest"
   ]
  },
  {
   "cell_type": "markdown",
   "metadata": {},
   "source": [
    "Utilities"
   ]
  },
  {
   "cell_type": "code",
   "execution_count": null,
   "metadata": {},
   "outputs": [],
   "source": []
  },
  {
   "cell_type": "markdown",
   "metadata": {},
   "source": [
    "Pascal's Triangle 1: Given a non-negative integer numRows, generate the first numRows of Pascal's triangle.\n",
    "\n",
    "Pascal's Triangle 2: Given a non-negative index k where k ≤ 33, return the kth index row of the Pascal's triangle.\n",
    "Note that the row index starts from 0."
   ]
  },
  {
   "cell_type": "code",
   "execution_count": 9,
   "metadata": {},
   "outputs": [],
   "source": [
    "triangle = [[1], [1, 1]]\n",
    "\n",
    "class PascalsTriangle(object):\n",
    "    def generate(self, numRows):\n",
    "        global triangle\n",
    "        if numRows <= len(triangle):\n",
    "            return triangle[:numRows]\n",
    "        self.load(numRows)\n",
    "        return triangle[:numRows]\n",
    "        \"\"\"\n",
    "        :type numRows: int\n",
    "        :rtype: List[List[int]]\n",
    "        \"\"\"\n",
    "    \n",
    "    '''\n",
    "    loads all the rows of pascal's triangle, up to numRows,\n",
    "    into a global list, triangle\n",
    "    '''\n",
    "    def load(self, numRows):\n",
    "        global triangle\n",
    "        start = len(triangle)\n",
    "        while start < numRows:\n",
    "            l = [1]\n",
    "            for i in range(1, len(triangle[-1])):\n",
    "                l.append(triangle[-1][i] + triangle[-1][i - 1])\n",
    "            l.append(1)\n",
    "            triangle.append(l[:])\n",
    "            start += 1\n",
    "        \n",
    "    '''\n",
    "    code to get a particular row of pascal's triangle\n",
    "    '''\n",
    "    def getRow(self, rowIndex):\n",
    "        output = []\n",
    "        for i in range(rowIndex + 1):\n",
    "            output.append(self.choose(rowIndex, i))\n",
    "        return output\n",
    "        \"\"\"\n",
    "        :type rowIndex: int\n",
    "        :rtype: List[int]\n",
    "        \"\"\"\n",
    "    \n",
    "    '''\n",
    "    computes n factorial\n",
    "    '''\n",
    "    def factorial(self, n):\n",
    "        return self.factorialHelper(n, 1)\n",
    "    \n",
    "    '''\n",
    "    helper method for factorial\n",
    "    '''\n",
    "    def factorialHelper(self, n, current):\n",
    "        if n == 1 or n == 0:\n",
    "            return current\n",
    "        return self.factorialHelper(n - 1, current * n)\n",
    "    \n",
    "    '''\n",
    "    computes n choose m\n",
    "    '''\n",
    "    def choose(self, n, m):\n",
    "        return self.factorial(n) // (self.factorial(m) * self.factorial(n - m))\n",
    "        "
   ]
  },
  {
   "cell_type": "markdown",
   "metadata": {},
   "source": [
    "Coin Change: You are given coins of different denominations and a total amount of money amount. Write a function to compute the fewest number of coins that you need to make up that amount. If that amount of money cannot be made up by any combination of the coins, return -1."
   ]
  },
  {
   "cell_type": "code",
   "execution_count": 15,
   "metadata": {},
   "outputs": [],
   "source": [
    "'''\n",
    "mintotal: keeps track of the minimum number of coins needed\n",
    "to create the amount at the corresponding index\n",
    "i.e. mintotal[10] would be the minimum number of coins needed\n",
    "to create 10 cents\n",
    "'''\n",
    "def coinChange(coins, amount):\n",
    "    minTotal = [float('inf')] * (amount + 1)\n",
    "    minTotal[0] = 0\n",
    "    for coin in coins:\n",
    "        for i in range(amount + 1):\n",
    "            if i >= coin:\n",
    "                minTotal[i] = min(minTotal[i], 1 + minTotal[i - coin])\n",
    "    if minTotal[-1] == float('inf'):\n",
    "        return -1\n",
    "    return minTotal[-1]\n",
    "    \"\"\"\n",
    "    :type coins: List[int]\n",
    "    :type amount: int\n",
    "    :rtype: int\n",
    "    \"\"\""
   ]
  },
  {
   "cell_type": "markdown",
   "metadata": {},
   "source": [
    "You are climbing a stair case. It takes n steps to reach to the top.\n",
    "\n",
    "Each time you can either climb 1 or 2 steps. In how many distinct ways can you climb to the top?\n",
    "\n",
    "Note: Given n will be a positive integer."
   ]
  },
  {
   "cell_type": "code",
   "execution_count": 20,
   "metadata": {},
   "outputs": [],
   "source": [
    "answers = [1, 1]\n",
    "\n",
    "'''\n",
    "the number of ways to climb n stairs when you can only take one or 2 steps at a time turns out to be the same as\n",
    "calculating the numbers in the fibonacci sequence. This makes sense because fib[n] = fib[n - 1] + fib[n - 2]. When it\n",
    "comes to figuring out how many ways you can get to a certain step, since you can only take 1 or 2 steps at a time, \n",
    "the number of ways to get to that step is the number of ways to get to the previous step plus the number of ways to \n",
    "get two steps before.\n",
    "'''\n",
    "class ClimbStairs(object):\n",
    "    def climbStairs(self, n):\n",
    "        global answers\n",
    "        if n < len(answers):\n",
    "            return answers[n]\n",
    "        self.addEntry(n)\n",
    "        return answers[n]\n",
    "\n",
    "    def addEntry(self, n):\n",
    "        global answers\n",
    "        start = len(answers)\n",
    "        while start < n:\n",
    "            answers.append(answers[-1] + answers[-2])\n",
    "            start += 1\n",
    "        answers.append(answers[-1] + answers[-2])"
   ]
  },
  {
   "cell_type": "markdown",
   "metadata": {},
   "source": [
    "Unit tests for problems"
   ]
  },
  {
   "cell_type": "code",
   "execution_count": 21,
   "metadata": {},
   "outputs": [
    {
     "name": "stderr",
     "output_type": "stream",
     "text": [
      "...\n",
      "----------------------------------------------------------------------\n",
      "Ran 3 tests in 0.009s\n",
      "\n",
      "OK\n"
     ]
    }
   ],
   "source": [
    "class TestInterviewSolutions(unittest.TestCase):\n",
    "    def test_pascals_triangle(self):\n",
    "        pt = PascalsTriangle()\n",
    "        self.assertEqual([[1]], pt.generate(1))\n",
    "        self.assertEqual([[1], [1, 1], [1, 2, 1], [1, 3, 3, 1], [1, 4, 6, 4, 1]], pt.generate(5))\n",
    "        self.assertEqual([1, 3, 3, 1], pt.getRow(3))\n",
    "        self.assertEqual([1], pt.getRow(0))\n",
    "        self.assertEqual([1, 4, 6, 4, 1], pt.getRow(4))\n",
    "        \n",
    "    def test_coin_change(self):\n",
    "        self.assertEqual(3, coinChange([1, 2, 5], 11))\n",
    "        self.assertEqual(-1, coinChange([2], 3))\n",
    "        self.assertEqual(20, coinChange([186, 419, 83, 408], 6249))\n",
    "        \n",
    "    def test_climb_stairs(self):\n",
    "        cs = ClimbStairs()\n",
    "        self.assertEqual(1, cs.climbStairs(1))\n",
    "        self.assertEqual(2, cs.climbStairs(2))\n",
    "        self.assertEqual(3, cs.climbStairs(3))\n",
    "        self.assertEqual(34, cs.climbStairs(8))\n",
    "\n",
    "if __name__ == '__main__':\n",
    "    unittest.main(argv=['first-arg-is-ignored'], exit=False)"
   ]
  },
  {
   "cell_type": "code",
   "execution_count": null,
   "metadata": {},
   "outputs": [],
   "source": []
  }
 ],
 "metadata": {
  "kernelspec": {
   "display_name": "Python 3",
   "language": "python",
   "name": "python3"
  },
  "language_info": {
   "codemirror_mode": {
    "name": "ipython",
    "version": 3
   },
   "file_extension": ".py",
   "mimetype": "text/x-python",
   "name": "python",
   "nbconvert_exporter": "python",
   "pygments_lexer": "ipython3",
   "version": "3.6.4"
  }
 },
 "nbformat": 4,
 "nbformat_minor": 2
}
